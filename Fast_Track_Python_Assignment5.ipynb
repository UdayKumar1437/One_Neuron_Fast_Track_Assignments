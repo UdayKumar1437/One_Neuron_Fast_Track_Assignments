{
 "cells": [
  {
   "cell_type": "markdown",
   "id": "cc3b94ca",
   "metadata": {},
   "source": [
    "# Explain super() in the context of inheritance."
   ]
  },
  {
   "cell_type": "markdown",
   "id": "106a51f6",
   "metadata": {},
   "source": [
    "One of the important OOP features is Inheritance in Python. When a class inherits some or all of the behaviors from another class is known as Inheritance. In such a case, the inherited class is the subclass and the latter class is the parent class. \n",
    "\n",
    "\n",
    "In an inherited subclass, a parent class can be referred to with the use of the super() function. The super function returns a temporary object of the superclass that allows access to all of its methods to its child class.\n",
    "\n",
    "Furthermore, The benefits of using a super function are:-  \n",
    "\n",
    "\n",
    "Need not remember or specify the parent class name to access its methods. This function can be used both in single and multiple inheritances.\n",
    "This implements modularity (isolating changes) and code reusability as there is no need to rewrite the entire function.\n",
    "Super function in Python is called dynamically because Python is a dynamic language unlike other languages.\n",
    "There are 3 constraints to use the super function:-  \n",
    "\n",
    "\n",
    "The class and its methods which are referred by the super function\n",
    "The arguments of the super function and the called function should match.\n",
    "Every occurrence of the method must include super() after you use it."
   ]
  },
  {
   "cell_type": "markdown",
   "id": "dcbef08c",
   "metadata": {},
   "source": [
    "# Describe the file-handling system."
   ]
  },
  {
   "cell_type": "markdown",
   "id": "05e247a4",
   "metadata": {},
   "source": [
    "Python too supports file handling and allows users to handle files i.e., to read and write files, along with many other file handling options, to operate on files. The concept of file handling has stretched over various other languages, but the implementation is either complicated or lengthy, but like other concepts of Python, this concept here is also easy and short. Python treats file differently as text or binary and this is important. Each line of code includes a sequence of characters and they form text file. Each line of a file is terminated with a special character, called the EOL or End of Line characters like comma {,} or newline character. It ends the current line and tells the interpreter a new one has begun. Let’s start with Reading and Writing files. \n",
    "\n",
    "r: open an existing file for a read operation.\n",
    "\n",
    "w: open an existing file for a write operation. If the file already contains some data then it will be overridden.\n",
    "\n",
    "a:  open an existing file for append operation. It won’t override existing data.\n",
    "\n",
    " r+:  To read and write data into the file. The previous data in the file will not be deleted.\n",
    " \n",
    "w+: To write and read data. It will override existing data.\n",
    "\n",
    "a+: To append and read data from the file. It won’t override existing data.\n",
    "\n"
   ]
  },
  {
   "cell_type": "markdown",
   "id": "36e8e5e0",
   "metadata": {},
   "source": [
    "# In Python, explain multiple inheritance."
   ]
  },
  {
   "cell_type": "markdown",
   "id": "7a0b6ad8",
   "metadata": {},
   "source": [
    "A class can be derived from more than one base class in Python, similar to C++. This is called multiple inheritance.\n",
    "\n",
    "In multiple inheritance, the features of all the base classes are inherited into the derived class. The syntax for multiple inheritance is similar to single inheritance."
   ]
  },
  {
   "cell_type": "code",
   "execution_count": 1,
   "id": "a6697862",
   "metadata": {},
   "outputs": [],
   "source": [
    "class Base1:\n",
    "    pass\n",
    "\n",
    "class Base2:\n",
    "    pass\n",
    "\n",
    "class MultiDerived(Base1, Base2):\n",
    "    pass"
   ]
  },
  {
   "cell_type": "markdown",
   "id": "c69a1eb5",
   "metadata": {},
   "source": [
    "Here, the MultiDerived class is derived from Base1 and Base2 classes."
   ]
  },
  {
   "cell_type": "markdown",
   "id": "58c2e40f",
   "metadata": {},
   "source": [
    "# Write the MySQL query syntax for INSERT, UPDATE, and DROP."
   ]
  },
  {
   "cell_type": "markdown",
   "id": "1cfea001",
   "metadata": {},
   "source": [
    "#INSERT\n",
    "\n",
    "INSERT INTO table_name (column1, column2, column3, ...) VALUES (value1, value2, value3, ...);\n",
    "\n",
    "#UPDATE\n",
    "\n",
    "UPDATE table_name\n",
    "SET column1 = value1, column2 = value2, ...\n",
    "WHERE condition;\n",
    "\n",
    "#DROP\n",
    "\n",
    "ALTER TABLE TABLE_NAME DROP COLUMN COLUMN_NAME;"
   ]
  },
  {
   "cell_type": "markdown",
   "id": "686903db",
   "metadata": {},
   "source": [
    "# Describe MongoDB's features."
   ]
  },
  {
   "cell_type": "markdown",
   "id": "3539cf8e",
   "metadata": {},
   "source": [
    "Schema-less Database: It is the great feature provided by the MongoDB. A Schema-less database means one collection can hold different types of documents in it. Or in other words, in the MongoDB database, a single collection can hold multiple documents and these documents may consist of the different numbers of fields, content, and size. It is not necessary that the one document is similar to another document like in the relational databases. Due to this cool feature, MongoDB provides great flexibility to databases.\n",
    "\n",
    "Document Oriented: In MongoDB, all the data stored in the documents instead of tables like in RDBMS. In these documents, the data is stored in fields(key-value pair) instead of rows and columns which make the data much more flexible in comparison to RDBMS. And each document contains its unique object id.\n",
    "\n",
    "Indexing: In MongoDB database, every field in the documents is indexed with primary and secondary indices this makes easier and takes less time to get or search data from the pool of the data. If the data is not indexed, then database search each document with the specified query which takes lots of time and not so efficient.\n",
    "\n",
    "Scalability: MongoDB provides horizontal scalability with the help of sharding. Sharding means to distribute data on multiple servers, here a large amount of data is partitioned into data chunks using the shard key, and these data chunks are evenly distributed across shards that reside across many physical servers. It will also add new machines to a running database.\n",
    "\n",
    "Replication: MongoDB provides high availability and redundancy with the help of replication, it creates multiple copies of the data and sends these copies to a different server so that if one server fails, then the data is retrieved from another server.\n",
    "\n",
    "Aggregation: It allows to perform operations on the grouped data and get a single result or computed result. It is similar to the SQL GROUPBY clause. It provides three different aggregations i.e, aggregation pipeline, map-reduce function, and single-purpose aggregation methods\n",
    "\n",
    "High Performance: The performance of MongoDB is very high and data persistence as compared to another database due to its features like scalability, indexing, replication, etc."
   ]
  },
  {
   "cell_type": "code",
   "execution_count": null,
   "id": "830f86c9",
   "metadata": {},
   "outputs": [],
   "source": []
  }
 ],
 "metadata": {
  "kernelspec": {
   "display_name": "Python 3",
   "language": "python",
   "name": "python3"
  },
  "language_info": {
   "codemirror_mode": {
    "name": "ipython",
    "version": 3
   },
   "file_extension": ".py",
   "mimetype": "text/x-python",
   "name": "python",
   "nbconvert_exporter": "python",
   "pygments_lexer": "ipython3",
   "version": "3.8.8"
  }
 },
 "nbformat": 4,
 "nbformat_minor": 5
}
