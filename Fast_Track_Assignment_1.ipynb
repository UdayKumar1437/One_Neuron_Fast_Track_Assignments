{
 "cells": [
  {
   "cell_type": "markdown",
   "id": "0eeb8bc1",
   "metadata": {},
   "source": [
    "# What makes NumPy.shape() different from NumPy.size()?\n"
   ]
  },
  {
   "cell_type": "markdown",
   "id": "8426946f",
   "metadata": {},
   "source": [
    "'''Numpy.shape()--> \n",
    "The shape of an array can be defined as the number of elements in each dimension.\n",
    "Dimension is the number of indices or subscripts, that we require in order to specify an individual element of an array.\n",
    "When we use numpy.shape() it returns a tuple, the elements of the tuple give the lengths of the corresponding array dimensions.\n",
    "Numpy.size()-->\n",
    "In Python, numpy.size() function count the number of elements along a given axis.\n",
    "\n",
    "  '''"
   ]
  },
  {
   "cell_type": "code",
   "execution_count": 4,
   "id": "7214f20d",
   "metadata": {},
   "outputs": [
    {
     "name": "stdout",
     "output_type": "stream",
     "text": [
      "The shape of a given array is (2, 4)\n",
      "The size of a given array is 8\n"
     ]
    }
   ],
   "source": [
    "import numpy as np\n",
    "arr = np.array([[1, 2, 3, 4], [5, 6, 7, 8]])\n",
    "print(\"The shape of a given array is {0}\".format(arr.shape))\n",
    "print(\"The size of a given array is {0}\".format(np.size(arr)))"
   ]
  },
  {
   "cell_type": "markdown",
   "id": "29562299",
   "metadata": {},
   "source": [
    "# In NumPy, describe the idea of broadcasting?"
   ]
  },
  {
   "cell_type": "markdown",
   "id": "3fa3908a",
   "metadata": {},
   "source": [
    "The term broadcasting describes how NumPy treats arrays with different shapes during arithmetic operations. Subject to certain constraints, the smaller array is “broadcast” across the larger array so that they have compatible shapes. Broadcasting provides a means of vectorizing array operations so that looping occurs in C instead of Python. It does this without making needless copies of data and usually leads to efficient algorithm implementations. There are, however, cases where broadcasting is a bad idea because it leads to inefficient use of memory that slows computation.NumPy operations are usually done on pairs of arrays on an element-by-element basis. In the simplest case, the two arrays must have exactly the same shape.\n",
    "General Broadcasting Rules:\n",
    "When operating on two arrays, NumPy compares their shapes element-wise. It starts with the trailing (i.e. rightmost) dimensions and works its way left. Two dimensions are compatible when they are equal, or one of them is 1."
   ]
  },
  {
   "cell_type": "markdown",
   "id": "8df82cac",
   "metadata": {},
   "source": [
    "# What makes Python better than other libraries for numerical computation?"
   ]
  },
  {
   "cell_type": "markdown",
   "id": "717129bd",
   "metadata": {},
   "source": [
    "NumPy, a BSD-licensed library that adds support for the manipulation of large, multi-dimensional arrays and matrices; it also includes a large collection of high-level mathematical functions. NumPy serves as the backbone for a number of other numerical libraries, notably SciPy. De facto standard for matrix/tensor operations in Python.\n",
    "Pandas a library for data manipulation and analysis.\n",
    "SageMath is a large mathematical software application which integrates the work of nearly 100 free software projects and supports linear algebra, combinatorics, numerical mathematics, calculus, and more.\n",
    "Scipy a large BSD-licensed library of scientific tools. De facto standard for scientific computations in Python.\n",
    "ScientificPython, a library with a different set of scientific tools"
   ]
  },
  {
   "cell_type": "markdown",
   "id": "edc92b68",
   "metadata": {},
   "source": [
    "# How does NumPy deal with files?"
   ]
  },
  {
   "cell_type": "markdown",
   "id": "d1172dce",
   "metadata": {},
   "source": [
    "NumPy introduces a simple file format for ndarray objects. This .npy file stores data, shape, dtype and other information required to reconstruct the ndarray in a disk file such that the array is correctly retrieved even if the file is on another machine with different architecture.\n",
    "The numpy.save() file stores the input array in a disk file with npy extension.\n",
    "To reconstruct array from outfile.npy, use load() function.\n",
    "The storage and retrieval of array data in simple text file format is done with savetxt() and loadtxt() functions."
   ]
  },
  {
   "cell_type": "markdown",
   "id": "3488595e",
   "metadata": {},
   "source": [
    "# Mention the importance of NumPy.empty()?"
   ]
  },
  {
   "cell_type": "markdown",
   "id": "b67eb86a",
   "metadata": {},
   "source": [
    "The numpy module of Python provides a function called numpy.empty(). This function is used to create an array without initializing the entries of given shape and type.\n",
    "Just like numpy.zeros(), the numpy.empty() function doesn't set the array values to zero, and it is quite faster than the numpy.zeros(). This function requires the user to set all the values in the array manually and should be used with caution.\n",
    "numpy.empty(shape, dtype = float, order = ‘C’) : Return a new array of given shape and type, with random values."
   ]
  },
  {
   "cell_type": "code",
   "execution_count": null,
   "id": "1f01a2be",
   "metadata": {},
   "outputs": [],
   "source": []
  }
 ],
 "metadata": {
  "kernelspec": {
   "display_name": "Python 3",
   "language": "python",
   "name": "python3"
  },
  "language_info": {
   "codemirror_mode": {
    "name": "ipython",
    "version": 3
   },
   "file_extension": ".py",
   "mimetype": "text/x-python",
   "name": "python",
   "nbconvert_exporter": "python",
   "pygments_lexer": "ipython3",
   "version": "3.8.8"
  }
 },
 "nbformat": 4,
 "nbformat_minor": 5
}
