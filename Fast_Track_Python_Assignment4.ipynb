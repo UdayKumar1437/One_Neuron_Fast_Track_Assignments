{
 "cells": [
  {
   "cell_type": "markdown",
   "id": "9f8745cc",
   "metadata": {},
   "source": [
    "# Explain the differences between Cassandra and typical databases."
   ]
  },
  {
   "cell_type": "markdown",
   "id": "0ff9a7cb",
   "metadata": {},
   "source": [
    "Cassandra: Cassandra is a high-performance and highly scalable distributed NoSQL database management system. Cassandra deals with unstructured data and handles a high volume of incoming data velocity. In Cassandra data is written in many locations also data come from many locations this row represents a unit of replication and the column represents a unit of storage.\n",
    "\n",
    "\n",
    "RDBMS: Relational Database Management System (RDBMS) is a Database management system or software that is designed for relational databases and uses Structured Query Language (SQL) for querying and maintaining the database. It deals with structured data and handles moderate incoming data velocity. In RDBMS mainly data is written in one location also data come from one/few locations and a row represents a single record column that represents an attribute. "
   ]
  },
  {
   "cell_type": "markdown",
   "id": "26ca6796",
   "metadata": {},
   "source": [
    "# What exactly is CQLSH?"
   ]
  },
  {
   "cell_type": "markdown",
   "id": "3cde5595",
   "metadata": {},
   "source": [
    "cqlsh is a command-line interface for interacting with Cassandra using CQL (the Cassandra Query Language). It is shipped with every Cassandra package, and can be found in the bin/ directory alongside the cassandra executable. cqlsh is implemented with the Python native protocol driver, and connects to the single specified node.\n"
   ]
  },
  {
   "cell_type": "markdown",
   "id": "52db9d3f",
   "metadata": {},
   "source": [
    "# Explain the Cassandra cluster idea."
   ]
  },
  {
   "cell_type": "markdown",
   "id": "b321b410",
   "metadata": {},
   "source": [
    "Cassandra is based on distributed system architecture. In its simplest form, Cassandra can be installed on a single machine or in a docker container, and it works well for basic testing. A single Cassandra instance is called a node. Cassandra supports horizontal scalability achieved by adding more than one node as a part of a Cassandra cluster. The scalability works with linear performance improvement if the resources are configured optimally.\n",
    "\n",
    "Cassandra works with peer to peer architecture, with each node connected to all other nodes. Each Cassandra node performs all database operations and can serve client requests without the need for a master node. A Cassandra cluster does not have a single point of failure as a result of the peer-to-peer distributed architecture. "
   ]
  },
  {
   "cell_type": "markdown",
   "id": "ff336e29",
   "metadata": {},
   "source": [
    "# Give an example to demonstrate the class notion."
   ]
  },
  {
   "cell_type": "markdown",
   "id": "872351b9",
   "metadata": {},
   "source": [
    "A class is a user-defined blueprint or prototype from which objects are created. Classes provide a means of bundling data and functionality together. Creating a new class creates a new type of object, allowing new instances of that type to be made. Each class instance can have attributes attached to it for maintaining its state. Class instances can also have methods (defined by their class) for modifying their state.\n",
    "\n",
    "\n",
    "To understand the need for creating a class let’s consider an example, let’s say you wanted to track the number of dogs that may have different attributes like breed, age. If a list is used, the first element could be the dog’s breed while the second element could represent its age. Let’s suppose there are 100 different dogs, then how would you know which element is supposed to be which? What if you wanted to add other properties to these dogs? This lacks organization and it’s the exact need for classes. \n",
    "\n",
    "Class creates a user-defined data structure, which holds its own data members and member functions, which can be accessed and used by creating an instance of that class. A class is like a blueprint for an object.\n",
    "\n",
    "Some points on Python class:  \n",
    "\n",
    "Classes are created by keyword class.\n",
    "Attributes are the variables that belong to a class.\n",
    "Attributes are always public and can be accessed using the dot (.) operator."
   ]
  },
  {
   "cell_type": "markdown",
   "id": "b33255eb",
   "metadata": {},
   "source": [
    "# Use an example to explain the object."
   ]
  },
  {
   "cell_type": "markdown",
   "id": "e3e8ee2f",
   "metadata": {},
   "source": [
    "To understand the need for creating a class let’s consider an example, let’s say you wanted to track the number of dogs that may have different attributes like breed, age. If a list is used, the first element could be the dog’s breed while the second element could represent its age. Let’s suppose there are 100 different dogs, then how would you know which element is supposed to be which? What if you wanted to add other properties to these dogs? This lacks organization and it’s the exact need for classes. "
   ]
  },
  {
   "cell_type": "code",
   "execution_count": null,
   "id": "c00e4ac2",
   "metadata": {},
   "outputs": [],
   "source": []
  }
 ],
 "metadata": {
  "kernelspec": {
   "display_name": "Python 3",
   "language": "python",
   "name": "python3"
  },
  "language_info": {
   "codemirror_mode": {
    "name": "ipython",
    "version": 3
   },
   "file_extension": ".py",
   "mimetype": "text/x-python",
   "name": "python",
   "nbconvert_exporter": "python",
   "pygments_lexer": "ipython3",
   "version": "3.8.8"
  }
 },
 "nbformat": 4,
 "nbformat_minor": 5
}
