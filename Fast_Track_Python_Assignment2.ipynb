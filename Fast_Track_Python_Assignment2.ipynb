{
 "cells": [
  {
   "cell_type": "markdown",
   "id": "e71276bc",
   "metadata": {},
   "source": [
    "# Explain three-dimensional data indexing."
   ]
  },
  {
   "cell_type": "markdown",
   "id": "db316973",
   "metadata": {},
   "source": [
    "In three-dimensional array it contains rows and columns as (row,column)\n",
    "--> row indicates the number of rows in array.\n",
    "--> column indicates the number of columns in array.\n",
    "when coming to the data indexing of a three-dimensional array 1st element it was (0,0) 0th row and 0th column.\n",
    "when we want to access 2nd element in 0th row in arr named array --> arr[0][2] gives you the result.\n"
   ]
  },
  {
   "cell_type": "code",
   "execution_count": 1,
   "id": "b25267c8",
   "metadata": {},
   "outputs": [
    {
     "name": "stdout",
     "output_type": "stream",
     "text": [
      "[[0, 1, 2], [0, 1, 2], [0, 1, 2]]\n"
     ]
    }
   ],
   "source": [
    "arr=[[x for x in range(3)] for y in range(3)]\n",
    "print(arr)"
   ]
  },
  {
   "cell_type": "code",
   "execution_count": 3,
   "id": "e9af9e3f",
   "metadata": {},
   "outputs": [
    {
     "name": "stdout",
     "output_type": "stream",
     "text": [
      "2\n"
     ]
    }
   ],
   "source": [
    "print(arr[0][2])"
   ]
  },
  {
   "cell_type": "markdown",
   "id": "9b6018d4",
   "metadata": {},
   "source": [
    "# What's the difference between a series and a dataframe?"
   ]
  },
  {
   "cell_type": "markdown",
   "id": "937e8717",
   "metadata": {},
   "source": [
    "Series is a type of list in pandas which can take integer values, string values, double values and more. But in Pandas Series we return an object in the form of list, having index starting from 0 to n, Where n is the length of values in series."
   ]
  },
  {
   "cell_type": "markdown",
   "id": "89b537ca",
   "metadata": {},
   "source": [
    "A pandas series is a one-dimensional data structure that comprises of a key-value pair. It is similar to a python dictionary, except it provides more freedom to manipulate and edit the data.\n",
    "\n",
    "To initialize a series, use pd.Series()"
   ]
  },
  {
   "cell_type": "markdown",
   "id": "9079f813",
   "metadata": {},
   "source": [
    "A pandas dataframe is a two-dimensional data-structure that can be thought of as a spreadsheet. A dataframe can also be thought of as a combination of two or more series.\n",
    "\n",
    "To initialize a dataframe, use pd.DataFrame"
   ]
  },
  {
   "cell_type": "markdown",
   "id": "e35126be",
   "metadata": {},
   "source": [
    "# What role does pandas play in data cleaning?"
   ]
  },
  {
   "cell_type": "markdown",
   "id": "8c3c8f22",
   "metadata": {},
   "source": [
    "Pandas play a very important role in data cleaning.\n",
    "1.Dropping unnecessary columns in a DataFrame\n",
    "2.Changing the index of a DataFrame\n",
    "3.Using .str() methods to clean columns\n",
    "4.Using the DataFrame.applymap() function to clean the entire dataset, element-wise\n",
    "5.Renaming columns to a more recognizable set of labels\n",
    "6.Skipping unnecessary rows in a CSV file"
   ]
  },
  {
   "cell_type": "markdown",
   "id": "410b5cf8",
   "metadata": {},
   "source": [
    "# How do you use pandas to make a data frame out of n-dimensional arrays?"
   ]
  },
  {
   "cell_type": "code",
   "execution_count": 10,
   "id": "74316af8",
   "metadata": {},
   "outputs": [],
   "source": [
    "import numpy as np\n",
    "\n",
    "# Creating the array to convert\n",
    "numpy_array = np.array([[1, 'uday'], [4, 'kumar'],\n",
    "                       [4, 'pandas'], [1, 'NumPy']])"
   ]
  },
  {
   "cell_type": "code",
   "execution_count": 11,
   "id": "91e428fb",
   "metadata": {},
   "outputs": [],
   "source": [
    "import pandas as pd\n",
    "\n",
    "# Creating the dataframe\n",
    "df = pd.DataFrame(numpy_array)"
   ]
  },
  {
   "cell_type": "code",
   "execution_count": 12,
   "id": "89f2880e",
   "metadata": {},
   "outputs": [
    {
     "data": {
      "text/html": [
       "<div>\n",
       "<style scoped>\n",
       "    .dataframe tbody tr th:only-of-type {\n",
       "        vertical-align: middle;\n",
       "    }\n",
       "\n",
       "    .dataframe tbody tr th {\n",
       "        vertical-align: top;\n",
       "    }\n",
       "\n",
       "    .dataframe thead th {\n",
       "        text-align: right;\n",
       "    }\n",
       "</style>\n",
       "<table border=\"1\" class=\"dataframe\">\n",
       "  <thead>\n",
       "    <tr style=\"text-align: right;\">\n",
       "      <th></th>\n",
       "      <th>0</th>\n",
       "      <th>1</th>\n",
       "    </tr>\n",
       "  </thead>\n",
       "  <tbody>\n",
       "    <tr>\n",
       "      <th>0</th>\n",
       "      <td>1</td>\n",
       "      <td>uday</td>\n",
       "    </tr>\n",
       "    <tr>\n",
       "      <th>1</th>\n",
       "      <td>4</td>\n",
       "      <td>kumar</td>\n",
       "    </tr>\n",
       "    <tr>\n",
       "      <th>2</th>\n",
       "      <td>4</td>\n",
       "      <td>pandas</td>\n",
       "    </tr>\n",
       "    <tr>\n",
       "      <th>3</th>\n",
       "      <td>1</td>\n",
       "      <td>NumPy</td>\n",
       "    </tr>\n",
       "  </tbody>\n",
       "</table>\n",
       "</div>"
      ],
      "text/plain": [
       "   0       1\n",
       "0  1    uday\n",
       "1  4   kumar\n",
       "2  4  pandas\n",
       "3  1   NumPy"
      ]
     },
     "execution_count": 12,
     "metadata": {},
     "output_type": "execute_result"
    }
   ],
   "source": [
    "df"
   ]
  },
  {
   "cell_type": "markdown",
   "id": "959a2529",
   "metadata": {},
   "source": [
    "# Explain the notion of pandas plotting."
   ]
  },
  {
   "cell_type": "markdown",
   "id": "2fd49e25",
   "metadata": {},
   "source": [
    "Pandas uses the plot() method to create diagrams.\n",
    "\n",
    "import pandas as pd\n",
    "import matplotlib.pyplot as plt\n",
    "\n",
    "df = pd.read_csv('data.csv')\n",
    "\n",
    "df.plot()\n",
    "\n",
    "plt.show()\n",
    "\n",
    "We can use Pyplot, a submodule of the Matplotlib library to visualize the diagram on the screen.\n",
    "-->Scatter Plot\n",
    "\n",
    "df = pd.read_csv('data.csv')\n",
    "\n",
    "df.plot(kind = 'scatter', x = 'Duration', y = 'Calories')\n",
    "\n",
    "plt.show()\n",
    "\n",
    "-->Histogram\n",
    "df[\"Duration\"].plot(kind = 'hist')"
   ]
  },
  {
   "cell_type": "code",
   "execution_count": null,
   "id": "45d8c388",
   "metadata": {},
   "outputs": [],
   "source": []
  }
 ],
 "metadata": {
  "kernelspec": {
   "display_name": "Python 3",
   "language": "python",
   "name": "python3"
  },
  "language_info": {
   "codemirror_mode": {
    "name": "ipython",
    "version": 3
   },
   "file_extension": ".py",
   "mimetype": "text/x-python",
   "name": "python",
   "nbconvert_exporter": "python",
   "pygments_lexer": "ipython3",
   "version": "3.8.8"
  }
 },
 "nbformat": 4,
 "nbformat_minor": 5
}
